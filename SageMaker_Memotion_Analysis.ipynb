{
 "cells": [
  {
   "cell_type": "markdown",
   "id": "bf8e133d",
   "metadata": {},
   "source": [
    "# Multimodal Media Analysis by Amazon Sagemaker's multi-container endpoints\n",
    "### Post by Venugopal Pai\n",
    "\n",
    "\n",
    "Internet memes are deeply ingrained in social media platforms such as Facebook, Instagram, and Twitter and a deeper analysis of their symbolic meaning helps us to understand the opinion of a community. The nature of the way Internet memes can be spread allows them to be a way for members of specific communities to communicate and identify with one another but on the flipside, it can become a tool for malicious users to spread hatred and provoke targeted entities. \n",
    "\n",
    "This notebook uses the Kaggle dataset - https://www.kaggle.com/williamscott701/memotion-dataset-7k to analyse and classify Internet memes based on the type of humour i.e.sarcasm, offensive, motivational and understand the overall sentiment. The dataset contains human annotated tags of sentiment and humour for each of the images. \n",
    "\n",
    "I have used Amazon Sagemaker's multi-container endpoint with direct invocation to deploy Amazon's Image Classification model and BlazingText model and ensembled the individual predictions using averaging from each model to arrive at the final prediction for evaluation. The datasets present a multilabel multiclass classification problem and I have used augmented file format to load the dataset using RecordIO wrapper and \"class-id\" label formating for training the individual models.\n",
    "\n",
    "This example can be extended in several ways such as picking a different model for training, bringing your own custom model, training a separate model for peforming the ensemble instead of a taking a simple average.\n"
   ]
  },
  {
   "cell_type": "markdown",
   "id": "b6db3e06",
   "metadata": {},
   "source": [
    "---\n",
    "## Creating the ML models in Amazon SageMaker\n",
    "\n",
    "In this example notebook, I have created two models—a multilabel image classification model and a multilabel supervised text classification model - and ensembled the outputs. The multi-label multi-class classification will classify the  Internet meme based on Humour, Sarcasm, Offensive, Motivational and Overall Sentiment. \n",
    "\n",
    "Here are the high-level steps we will follow to for this example:\n",
    "\n",
    "   * Prepare your Amazon SageMaker Jupyter notebook.\n",
    "   * Analyse the dataset - includes jpeg encoding & resizing the images and cleaning the text\n",
    "   * Load a dataset from Amazon Simple Storage Service (S3) using Amazon SageMaker.\n",
    "   * Build a model using the Amazon Image Classification algorithm.\n",
    "   * Build a model using the Amazon BlazingText algorithm.\n",
    "   * Host the containers on Amazon SageMaker on a single endpoint to make ongoing predictions.\n",
    "   * Generate final predictions on the test data set.\n",
    "\n",
    "\n",
    "![architecture](SagemakerMultiContainer.png \"Architecture\")"
   ]
  },
  {
   "cell_type": "markdown",
   "id": "8de48b1c",
   "metadata": {},
   "source": [
    "## Setup\n",
    "\n",
    "Let's start by specifying:\n",
    "\n",
    "* Specify the Amazon SageMaker role Amazon Resource Name (ARN) used to give learning and hosting access to your data. \n",
    "* Specify the Amazon S3 bucket that will be used for training and storing model objects."
   ]
  },
  {
   "cell_type": "code",
   "execution_count": 9,
   "id": "15ca3d3c",
   "metadata": {},
   "outputs": [
    {
     "name": "stdout",
     "output_type": "stream",
     "text": [
      "Requirement already satisfied: Pillow in /home/ec2-user/anaconda3/envs/mxnet_p36/lib/python3.6/site-packages (8.1.0)\n",
      "Collecting kaggle\n",
      "  Downloading kaggle-1.5.12.tar.gz (58 kB)\n",
      "\u001b[K     |████████████████████████████████| 58 kB 6.8 MB/s  eta 0:00:01\n",
      "\u001b[?25hRequirement already satisfied: six>=1.10 in /home/ec2-user/anaconda3/envs/mxnet_p36/lib/python3.6/site-packages (from kaggle) (1.15.0)\n",
      "Requirement already satisfied: certifi in /home/ec2-user/anaconda3/envs/mxnet_p36/lib/python3.6/site-packages (from kaggle) (2020.12.5)\n",
      "Requirement already satisfied: python-dateutil in /home/ec2-user/anaconda3/envs/mxnet_p36/lib/python3.6/site-packages (from kaggle) (2.8.1)\n",
      "Requirement already satisfied: requests in /home/ec2-user/anaconda3/envs/mxnet_p36/lib/python3.6/site-packages (from kaggle) (2.25.1)\n",
      "Collecting tqdm\n",
      "  Downloading tqdm-4.60.0-py2.py3-none-any.whl (75 kB)\n",
      "\u001b[K     |████████████████████████████████| 75 kB 5.5 MB/s  eta 0:00:01\n",
      "\u001b[?25hCollecting python-slugify\n",
      "  Downloading python_slugify-5.0.2-py2.py3-none-any.whl (6.7 kB)\n",
      "Requirement already satisfied: urllib3 in /home/ec2-user/anaconda3/envs/mxnet_p36/lib/python3.6/site-packages (from kaggle) (1.26.4)\n",
      "Collecting text-unidecode>=1.3\n",
      "  Downloading text_unidecode-1.3-py2.py3-none-any.whl (78 kB)\n",
      "\u001b[K     |████████████████████████████████| 78 kB 9.3 MB/s  eta 0:00:01\n",
      "\u001b[?25hRequirement already satisfied: chardet<5,>=3.0.2 in /home/ec2-user/anaconda3/envs/mxnet_p36/lib/python3.6/site-packages (from requests->kaggle) (3.0.4)\n",
      "Requirement already satisfied: idna<3,>=2.5 in /home/ec2-user/anaconda3/envs/mxnet_p36/lib/python3.6/site-packages (from requests->kaggle) (2.10)\n",
      "Building wheels for collected packages: kaggle\n",
      "  Building wheel for kaggle (setup.py) ... \u001b[?25ldone\n",
      "\u001b[?25h  Created wheel for kaggle: filename=kaggle-1.5.12-py3-none-any.whl size=73053 sha256=9299ee563412e432ae3339b4afbb7ed13be3c99e187c9d9dd8fcdf0bda9426cf\n",
      "  Stored in directory: /home/ec2-user/.cache/pip/wheels/77/47/e4/44a4ba1b7dfd53faaa35f59f1175e123b213ff401a8a56876b\n",
      "Successfully built kaggle\n",
      "Installing collected packages: text-unidecode, tqdm, python-slugify, kaggle\n",
      "Successfully installed kaggle-1.5.12 python-slugify-5.0.2 text-unidecode-1.3 tqdm-4.60.0\n"
     ]
    }
   ],
   "source": [
    "import sagemaker\n",
    "from sagemaker.amazon.amazon_estimator import get_image_uri\n",
    "import boto3\n",
    "import os \n",
    "import urllib.request\n",
    "import json\n",
    "import sys\n",
    "!pip3 install Pillow\n",
    "!pip3 install kaggle\n",
    " \n",
    "region = boto3.Session().region_name    \n",
    "\n",
    "role = sagemaker.get_execution_role()\n",
    "s3 = boto3.client('s3')\n",
    "smclient = boto3.client(service_name='sagemaker')"
   ]
  },
  {
   "cell_type": "markdown",
   "id": "9d71ec2b",
   "metadata": {},
   "source": [
    "Now you need to import the relevant Python libraries that we’ll use throughout the analysis."
   ]
  },
  {
   "cell_type": "code",
   "execution_count": 6,
   "id": "ffba0092",
   "metadata": {},
   "outputs": [
    {
     "name": "stderr",
     "output_type": "stream",
     "text": [
      "[nltk_data] Downloading package punkt to /home/ec2-user/nltk_data...\n",
      "[nltk_data]   Package punkt is already up-to-date!\n",
      "[nltk_data] Downloading package stopwords to\n",
      "[nltk_data]     /home/ec2-user/nltk_data...\n",
      "[nltk_data]   Package stopwords is already up-to-date!\n"
     ]
    },
    {
     "data": {
      "text/plain": [
       "True"
      ]
     },
     "execution_count": 6,
     "metadata": {},
     "output_type": "execute_result"
    }
   ],
   "source": [
    "import numpy as np                                # For matrix operations and numerical processing\n",
    "import pandas as pd                               # For munging tabular data\n",
    "from random import shuffle\n",
    "import multiprocessing\n",
    "from multiprocessing import Pool\n",
    "import csv\n",
    "import nltk\n",
    "import re\n",
    "import string\n",
    "import itertools\n",
    "from sklearn import metrics\n",
    "import matplotlib.pyplot as plt\n",
    "nltk.download('punkt')\n",
    "nltk.download('stopwords')"
   ]
  },
  {
   "cell_type": "markdown",
   "id": "84669fc8",
   "metadata": {},
   "source": [
    "Let’s define the Amazon S3 bucket used for the example."
   ]
  },
  {
   "cell_type": "code",
   "execution_count": 7,
   "id": "5780f232",
   "metadata": {},
   "outputs": [],
   "source": [
    "bucket = sagemaker.Session().default_bucket()\n",
    "prefix = 'sagemaker/Memotion_Analysis'\n",
    "prefix_img = prefix + '/' + 'imageclassification'\n",
    "prefix_txt = prefix + '/' + 'blazingtext'"
   ]
  },
  {
   "cell_type": "markdown",
   "id": "37594097",
   "metadata": {},
   "source": [
    "## Data\n",
    "\n",
    "Images are placed in memotion_dataset_7k/images folder and are a mix of JPG and PNG files. The 'labels_pd_pickle' and labels.csv file contains all the image file names and labels in pickled and csv format respectively. The 'reference_df_pickle' file contains the internet links of the image files"
   ]
  },
  {
   "cell_type": "markdown",
   "id": "02a885bd",
   "metadata": {},
   "source": [
    "## Prepare: \n",
    "\n",
    "To get the data into Amazon S3 in a format that ImageClassification and BlazingText can read, I extracted the relevant files from the zipped file, create an augmented manifest file for image and text, and added them to the Amazon S3 bucket so that S3 and Amazon SageMaker can read them."
   ]
  },
  {
   "cell_type": "code",
   "execution_count": 15,
   "id": "d80f2d95",
   "metadata": {},
   "outputs": [],
   "source": [
    "%%bash\n",
    "mkdir ~/.kaggle\n",
    "cp /home/ec2-user/SageMaker/kaggle.json ~/.kaggle/kaggle.json\n",
    "sudo chmod 600 ~/.kaggle/kaggle.json"
   ]
  },
  {
   "cell_type": "markdown",
   "id": "78ea65c4",
   "metadata": {},
   "source": [
    "#### Extract Files and Read Data Pre-Conversion"
   ]
  },
  {
   "cell_type": "code",
   "execution_count": 16,
   "id": "e59c5d37",
   "metadata": {},
   "outputs": [
    {
     "name": "stdout",
     "output_type": "stream",
     "text": [
      "Downloading memotion-dataset-7k.zip to /home/ec2-user/SageMaker\n",
      " 99%|████████████████████████████████████████▌| 689M/695M [00:07<00:00, 139MB/s]\n",
      "100%|████████████████████████████████████████| 695M/695M [00:07<00:00, 97.5MB/s]\n"
     ]
    }
   ],
   "source": [
    "!kaggle datasets download -d williamscott701/memotion-dataset-7k\n",
    "!unzip -q memotion-dataset-7k.zip\n",
    "image_dir = './memotion_dataset_7k/images'\n"
   ]
  },
  {
   "cell_type": "markdown",
   "id": "6c4b213f",
   "metadata": {},
   "source": [
    "####  Read Data Pre-Conversion"
   ]
  },
  {
   "cell_type": "code",
   "execution_count": 17,
   "id": "f9a51258",
   "metadata": {},
   "outputs": [
    {
     "data": {
      "text/html": [
       "<div>\n",
       "<style scoped>\n",
       "    .dataframe tbody tr th:only-of-type {\n",
       "        vertical-align: middle;\n",
       "    }\n",
       "\n",
       "    .dataframe tbody tr th {\n",
       "        vertical-align: top;\n",
       "    }\n",
       "\n",
       "    .dataframe thead th {\n",
       "        text-align: right;\n",
       "    }\n",
       "</style>\n",
       "<table border=\"1\" class=\"dataframe\">\n",
       "  <thead>\n",
       "    <tr style=\"text-align: right;\">\n",
       "      <th></th>\n",
       "      <th>image_name</th>\n",
       "      <th>text_ocr</th>\n",
       "      <th>text_corrected</th>\n",
       "      <th>humour</th>\n",
       "      <th>sarcasm</th>\n",
       "      <th>offensive</th>\n",
       "      <th>motivational</th>\n",
       "      <th>overall_sentiment</th>\n",
       "    </tr>\n",
       "  </thead>\n",
       "  <tbody>\n",
       "    <tr>\n",
       "      <th>0</th>\n",
       "      <td>image_1.jpg</td>\n",
       "      <td>LOOK THERE MY FRIEND LIGHTYEAR NOW ALL SOHALIK...</td>\n",
       "      <td>LOOK THERE MY FRIEND LIGHTYEAR NOW ALL SOHALIK...</td>\n",
       "      <td>hilarious</td>\n",
       "      <td>general</td>\n",
       "      <td>not_offensive</td>\n",
       "      <td>not_motivational</td>\n",
       "      <td>very_positive</td>\n",
       "    </tr>\n",
       "    <tr>\n",
       "      <th>1</th>\n",
       "      <td>image_2.jpeg</td>\n",
       "      <td>The best of #10 YearChallenge! Completed in le...</td>\n",
       "      <td>The best of #10 YearChallenge! Completed in le...</td>\n",
       "      <td>not_funny</td>\n",
       "      <td>general</td>\n",
       "      <td>not_offensive</td>\n",
       "      <td>motivational</td>\n",
       "      <td>very_positive</td>\n",
       "    </tr>\n",
       "    <tr>\n",
       "      <th>2</th>\n",
       "      <td>image_3.JPG</td>\n",
       "      <td>Sam Thorne @Strippin ( Follow Follow Saw every...</td>\n",
       "      <td>Sam Thorne @Strippin ( Follow Follow Saw every...</td>\n",
       "      <td>very_funny</td>\n",
       "      <td>not_sarcastic</td>\n",
       "      <td>not_offensive</td>\n",
       "      <td>not_motivational</td>\n",
       "      <td>positive</td>\n",
       "    </tr>\n",
       "    <tr>\n",
       "      <th>3</th>\n",
       "      <td>image_4.png</td>\n",
       "      <td>10 Year Challenge - Sweet Dee Edition</td>\n",
       "      <td>10 Year Challenge - Sweet Dee Edition</td>\n",
       "      <td>very_funny</td>\n",
       "      <td>twisted_meaning</td>\n",
       "      <td>very_offensive</td>\n",
       "      <td>motivational</td>\n",
       "      <td>positive</td>\n",
       "    </tr>\n",
       "    <tr>\n",
       "      <th>4</th>\n",
       "      <td>image_5.png</td>\n",
       "      <td>10 YEAR CHALLENGE WITH NO FILTER 47 Hilarious ...</td>\n",
       "      <td>10 YEAR CHALLENGE WITH NO FILTER 47 Hilarious ...</td>\n",
       "      <td>hilarious</td>\n",
       "      <td>very_twisted</td>\n",
       "      <td>very_offensive</td>\n",
       "      <td>not_motivational</td>\n",
       "      <td>neutral</td>\n",
       "    </tr>\n",
       "  </tbody>\n",
       "</table>\n",
       "</div>"
      ],
      "text/plain": [
       "     image_name                                           text_ocr  \\\n",
       "0   image_1.jpg  LOOK THERE MY FRIEND LIGHTYEAR NOW ALL SOHALIK...   \n",
       "1  image_2.jpeg  The best of #10 YearChallenge! Completed in le...   \n",
       "2   image_3.JPG  Sam Thorne @Strippin ( Follow Follow Saw every...   \n",
       "3   image_4.png              10 Year Challenge - Sweet Dee Edition   \n",
       "4   image_5.png  10 YEAR CHALLENGE WITH NO FILTER 47 Hilarious ...   \n",
       "\n",
       "                                      text_corrected      humour  \\\n",
       "0  LOOK THERE MY FRIEND LIGHTYEAR NOW ALL SOHALIK...   hilarious   \n",
       "1  The best of #10 YearChallenge! Completed in le...   not_funny   \n",
       "2  Sam Thorne @Strippin ( Follow Follow Saw every...  very_funny   \n",
       "3              10 Year Challenge - Sweet Dee Edition  very_funny   \n",
       "4  10 YEAR CHALLENGE WITH NO FILTER 47 Hilarious ...   hilarious   \n",
       "\n",
       "           sarcasm       offensive      motivational overall_sentiment  \n",
       "0          general   not_offensive  not_motivational     very_positive  \n",
       "1          general   not_offensive      motivational     very_positive  \n",
       "2    not_sarcastic   not_offensive  not_motivational          positive  \n",
       "3  twisted_meaning  very_offensive      motivational          positive  \n",
       "4     very_twisted  very_offensive  not_motivational           neutral  "
      ]
     },
     "execution_count": 17,
     "metadata": {},
     "output_type": "execute_result"
    }
   ],
   "source": [
    "import pandas as pd\n",
    "df = pd.read_pickle(\"./memotion_dataset_7k/labels_pd_pickle\")\n",
    "df.head()"
   ]
  },
  {
   "cell_type": "code",
   "execution_count": 18,
   "id": "7194ef59",
   "metadata": {},
   "outputs": [],
   "source": [
    "df = df.drop(columns = ['text_ocr'])   # dropping text_ocr column as we will use text_corrected column"
   ]
  },
  {
   "cell_type": "markdown",
   "id": "94456657",
   "metadata": {},
   "source": [
    "We check if any of the columns have null values"
   ]
  },
  {
   "cell_type": "code",
   "execution_count": 19,
   "id": "6b1600bf",
   "metadata": {},
   "outputs": [
    {
     "data": {
      "text/html": [
       "<div>\n",
       "<style scoped>\n",
       "    .dataframe tbody tr th:only-of-type {\n",
       "        vertical-align: middle;\n",
       "    }\n",
       "\n",
       "    .dataframe tbody tr th {\n",
       "        vertical-align: top;\n",
       "    }\n",
       "\n",
       "    .dataframe thead th {\n",
       "        text-align: right;\n",
       "    }\n",
       "</style>\n",
       "<table border=\"1\" class=\"dataframe\">\n",
       "  <thead>\n",
       "    <tr style=\"text-align: right;\">\n",
       "      <th></th>\n",
       "      <th>image_name</th>\n",
       "      <th>text_corrected</th>\n",
       "      <th>humour</th>\n",
       "      <th>sarcasm</th>\n",
       "      <th>offensive</th>\n",
       "      <th>motivational</th>\n",
       "      <th>overall_sentiment</th>\n",
       "    </tr>\n",
       "  </thead>\n",
       "  <tbody>\n",
       "    <tr>\n",
       "      <th>119</th>\n",
       "      <td>image_120.jpg</td>\n",
       "      <td>NaN</td>\n",
       "      <td>not_funny</td>\n",
       "      <td>general</td>\n",
       "      <td>not_offensive</td>\n",
       "      <td>not_motivational</td>\n",
       "      <td>positive</td>\n",
       "    </tr>\n",
       "    <tr>\n",
       "      <th>4799</th>\n",
       "      <td>image_4800.jpg</td>\n",
       "      <td>NaN</td>\n",
       "      <td>very_funny</td>\n",
       "      <td>general</td>\n",
       "      <td>slight</td>\n",
       "      <td>motivational</td>\n",
       "      <td>neutral</td>\n",
       "    </tr>\n",
       "    <tr>\n",
       "      <th>6781</th>\n",
       "      <td>image_6782.jpg</td>\n",
       "      <td>NaN</td>\n",
       "      <td>very_funny</td>\n",
       "      <td>twisted_meaning</td>\n",
       "      <td>not_offensive</td>\n",
       "      <td>not_motivational</td>\n",
       "      <td>positive</td>\n",
       "    </tr>\n",
       "    <tr>\n",
       "      <th>6784</th>\n",
       "      <td>image_6785.jpg</td>\n",
       "      <td>NaN</td>\n",
       "      <td>hilarious</td>\n",
       "      <td>general</td>\n",
       "      <td>not_offensive</td>\n",
       "      <td>not_motivational</td>\n",
       "      <td>positive</td>\n",
       "    </tr>\n",
       "    <tr>\n",
       "      <th>6786</th>\n",
       "      <td>image_6787.jpg</td>\n",
       "      <td>NaN</td>\n",
       "      <td>not_funny</td>\n",
       "      <td>not_sarcastic</td>\n",
       "      <td>very_offensive</td>\n",
       "      <td>motivational</td>\n",
       "      <td>positive</td>\n",
       "    </tr>\n",
       "  </tbody>\n",
       "</table>\n",
       "</div>"
      ],
      "text/plain": [
       "          image_name text_corrected      humour          sarcasm  \\\n",
       "119    image_120.jpg            NaN   not_funny          general   \n",
       "4799  image_4800.jpg            NaN  very_funny          general   \n",
       "6781  image_6782.jpg            NaN  very_funny  twisted_meaning   \n",
       "6784  image_6785.jpg            NaN   hilarious          general   \n",
       "6786  image_6787.jpg            NaN   not_funny    not_sarcastic   \n",
       "\n",
       "           offensive      motivational overall_sentiment  \n",
       "119    not_offensive  not_motivational          positive  \n",
       "4799          slight      motivational           neutral  \n",
       "6781   not_offensive  not_motivational          positive  \n",
       "6784   not_offensive  not_motivational          positive  \n",
       "6786  very_offensive      motivational          positive  "
      ]
     },
     "execution_count": 19,
     "metadata": {},
     "output_type": "execute_result"
    }
   ],
   "source": [
    "df[df.isnull().any(axis=1)]"
   ]
  },
  {
   "cell_type": "code",
   "execution_count": 20,
   "id": "050a136d",
   "metadata": {},
   "outputs": [
    {
     "data": {
      "text/plain": [
       "image_name           False\n",
       "text_corrected        True\n",
       "humour               False\n",
       "sarcasm              False\n",
       "offensive            False\n",
       "motivational         False\n",
       "overall_sentiment    False\n",
       "dtype: bool"
      ]
     },
     "execution_count": 20,
     "metadata": {},
     "output_type": "execute_result"
    }
   ],
   "source": [
    "df.isnull().any()"
   ]
  },
  {
   "cell_type": "markdown",
   "id": "8389089a",
   "metadata": {},
   "source": [
    "Drop all the rows that have null values"
   ]
  },
  {
   "cell_type": "code",
   "execution_count": 21,
   "id": "e79b2b22",
   "metadata": {},
   "outputs": [
    {
     "data": {
      "text/plain": [
       "image_name           False\n",
       "text_corrected       False\n",
       "humour               False\n",
       "sarcasm              False\n",
       "offensive            False\n",
       "motivational         False\n",
       "overall_sentiment    False\n",
       "dtype: bool"
      ]
     },
     "execution_count": 21,
     "metadata": {},
     "output_type": "execute_result"
    }
   ],
   "source": [
    "df.dropna(inplace=True)\n",
    "df.isnull().any()"
   ]
  },
  {
   "cell_type": "markdown",
   "id": "f77515d8",
   "metadata": {},
   "source": [
    "#### Conversion\n",
    "We resize all the images to (224,224) and convert them to JPEG as Image Classification algorithm accepts all images in JPEG format. We enabled loading of truncated images files. Functions 'isPNGfile' validate if the image file is of PNG format and 'changePNGextntoJPG' converts the png extension to jpg. This will useful while uploading the right images to S3"
   ]
  },
  {
   "cell_type": "code",
   "execution_count": 22,
   "id": "4aaaad23",
   "metadata": {},
   "outputs": [],
   "source": [
    "#importing the required package\n",
    "from PIL import Image\n",
    "from PIL import ImageFile\n",
    "ImageFile.LOAD_TRUNCATED_IMAGES = True\n",
    "newsize = (224, 224)\n",
    "\n",
    "\n",
    "def useResizedJPEGImages(basepath, filename):\n",
    "    k = filename.rfind(\".\")\n",
    "    filename_without_extn = filename[:k]\n",
    "    extn = filename[k:]\n",
    "    filepath = basepath + '/' + filename_without_extn + extn\n",
    "    img = Image.open(filepath)\n",
    "    rgb_im = img.convert(\"RGB\")\n",
    "    resize_im = rgb_im.resize(newsize)\n",
    "    \n",
    "    if extn == '.png' or extn == '.PNG':\n",
    "        filepath = basepath + '/' + filename_without_extn + '.jpg'\n",
    "    \n",
    "    rgb_im.save(filepath)\n",
    "    return filepath\n",
    "    \n",
    "    \n",
    "def isPNGfile(filepath):\n",
    "    k = filepath.rfind(\".\")\n",
    "    extn = filepath[k:]\n",
    "    if extn == '.png' or extn == '.PNG':\n",
    "        return True\n",
    "    else:\n",
    "        return False\n",
    "\n",
    "def changePNGextntoJPG(filepath):\n",
    "    if isPNGfile(filepath) == True:\n",
    "        k = filepath.rfind(\".\")\n",
    "        filename_without_extn = filepath[:k]\n",
    "        return filename_without_extn + '.jpg'\n",
    "        "
   ]
  },
  {
   "cell_type": "code",
   "execution_count": 23,
   "id": "861a8d63",
   "metadata": {},
   "outputs": [
    {
     "name": "stderr",
     "output_type": "stream",
     "text": [
      "/home/ec2-user/anaconda3/envs/mxnet_p36/lib/python3.6/site-packages/PIL/Image.py:963: UserWarning: Palette images with Transparency expressed in bytes should be converted to RGBA images\n",
      "  \"Palette images with Transparency expressed in bytes should be \"\n",
      "/home/ec2-user/anaconda3/envs/mxnet_p36/lib/python3.6/site-packages/PIL/TiffImagePlugin.py:793: UserWarning: Corrupt EXIF data.  Expecting to read 2 bytes but only got 0. \n",
      "  warnings.warn(str(msg))\n"
     ]
    }
   ],
   "source": [
    "# itrate over files in\n",
    "# that directory\n",
    "for filename in os.listdir(image_dir):\n",
    "    f = os.path.join(image_dir, filename)\n",
    "    # checking if it is a file\n",
    "    if os.path.isfile(f):\n",
    "        useResizedJPEGImages(image_dir, filename)"
   ]
  },
  {
   "cell_type": "markdown",
   "id": "651be4ea",
   "metadata": {},
   "source": [
    "We perform label encoding to store the labels in categorical order. We use these labels while building the confusion matrix"
   ]
  },
  {
   "cell_type": "code",
   "execution_count": 24,
   "id": "56ff2d9f",
   "metadata": {},
   "outputs": [
    {
     "data": {
      "text/html": [
       "<div>\n",
       "<style scoped>\n",
       "    .dataframe tbody tr th:only-of-type {\n",
       "        vertical-align: middle;\n",
       "    }\n",
       "\n",
       "    .dataframe tbody tr th {\n",
       "        vertical-align: top;\n",
       "    }\n",
       "\n",
       "    .dataframe thead th {\n",
       "        text-align: right;\n",
       "    }\n",
       "</style>\n",
       "<table border=\"1\" class=\"dataframe\">\n",
       "  <thead>\n",
       "    <tr style=\"text-align: right;\">\n",
       "      <th></th>\n",
       "      <th>image_name</th>\n",
       "      <th>text_corrected</th>\n",
       "      <th>humour</th>\n",
       "      <th>sarcasm</th>\n",
       "      <th>offensive</th>\n",
       "      <th>motivational</th>\n",
       "      <th>overall_sentiment</th>\n",
       "      <th>humour_cat</th>\n",
       "      <th>sarcasm_cat</th>\n",
       "      <th>offensive_cat</th>\n",
       "      <th>motivational_cat</th>\n",
       "      <th>overall_sentiment_cat</th>\n",
       "    </tr>\n",
       "  </thead>\n",
       "  <tbody>\n",
       "    <tr>\n",
       "      <th>0</th>\n",
       "      <td>image_1.jpg</td>\n",
       "      <td>LOOK THERE MY FRIEND LIGHTYEAR NOW ALL SOHALIK...</td>\n",
       "      <td>hilarious</td>\n",
       "      <td>general</td>\n",
       "      <td>not_offensive</td>\n",
       "      <td>not_motivational</td>\n",
       "      <td>very_positive</td>\n",
       "      <td>1</td>\n",
       "      <td>0</td>\n",
       "      <td>1</td>\n",
       "      <td>1</td>\n",
       "      <td>4</td>\n",
       "    </tr>\n",
       "    <tr>\n",
       "      <th>1</th>\n",
       "      <td>image_2.jpeg</td>\n",
       "      <td>The best of #10 YearChallenge! Completed in le...</td>\n",
       "      <td>not_funny</td>\n",
       "      <td>general</td>\n",
       "      <td>not_offensive</td>\n",
       "      <td>motivational</td>\n",
       "      <td>very_positive</td>\n",
       "      <td>2</td>\n",
       "      <td>0</td>\n",
       "      <td>1</td>\n",
       "      <td>0</td>\n",
       "      <td>4</td>\n",
       "    </tr>\n",
       "    <tr>\n",
       "      <th>2</th>\n",
       "      <td>image_3.JPG</td>\n",
       "      <td>Sam Thorne @Strippin ( Follow Follow Saw every...</td>\n",
       "      <td>very_funny</td>\n",
       "      <td>not_sarcastic</td>\n",
       "      <td>not_offensive</td>\n",
       "      <td>not_motivational</td>\n",
       "      <td>positive</td>\n",
       "      <td>3</td>\n",
       "      <td>1</td>\n",
       "      <td>1</td>\n",
       "      <td>1</td>\n",
       "      <td>2</td>\n",
       "    </tr>\n",
       "    <tr>\n",
       "      <th>3</th>\n",
       "      <td>image_4.png</td>\n",
       "      <td>10 Year Challenge - Sweet Dee Edition</td>\n",
       "      <td>very_funny</td>\n",
       "      <td>twisted_meaning</td>\n",
       "      <td>very_offensive</td>\n",
       "      <td>motivational</td>\n",
       "      <td>positive</td>\n",
       "      <td>3</td>\n",
       "      <td>2</td>\n",
       "      <td>3</td>\n",
       "      <td>0</td>\n",
       "      <td>2</td>\n",
       "    </tr>\n",
       "    <tr>\n",
       "      <th>4</th>\n",
       "      <td>image_5.png</td>\n",
       "      <td>10 YEAR CHALLENGE WITH NO FILTER 47 Hilarious ...</td>\n",
       "      <td>hilarious</td>\n",
       "      <td>very_twisted</td>\n",
       "      <td>very_offensive</td>\n",
       "      <td>not_motivational</td>\n",
       "      <td>neutral</td>\n",
       "      <td>1</td>\n",
       "      <td>3</td>\n",
       "      <td>3</td>\n",
       "      <td>1</td>\n",
       "      <td>1</td>\n",
       "    </tr>\n",
       "  </tbody>\n",
       "</table>\n",
       "</div>"
      ],
      "text/plain": [
       "     image_name                                     text_corrected  \\\n",
       "0   image_1.jpg  LOOK THERE MY FRIEND LIGHTYEAR NOW ALL SOHALIK...   \n",
       "1  image_2.jpeg  The best of #10 YearChallenge! Completed in le...   \n",
       "2   image_3.JPG  Sam Thorne @Strippin ( Follow Follow Saw every...   \n",
       "3   image_4.png              10 Year Challenge - Sweet Dee Edition   \n",
       "4   image_5.png  10 YEAR CHALLENGE WITH NO FILTER 47 Hilarious ...   \n",
       "\n",
       "       humour          sarcasm       offensive      motivational  \\\n",
       "0   hilarious          general   not_offensive  not_motivational   \n",
       "1   not_funny          general   not_offensive      motivational   \n",
       "2  very_funny    not_sarcastic   not_offensive  not_motivational   \n",
       "3  very_funny  twisted_meaning  very_offensive      motivational   \n",
       "4   hilarious     very_twisted  very_offensive  not_motivational   \n",
       "\n",
       "  overall_sentiment  humour_cat  sarcasm_cat  offensive_cat  motivational_cat  \\\n",
       "0     very_positive           1            0              1                 1   \n",
       "1     very_positive           2            0              1                 0   \n",
       "2          positive           3            1              1                 1   \n",
       "3          positive           3            2              3                 0   \n",
       "4           neutral           1            3              3                 1   \n",
       "\n",
       "   overall_sentiment_cat  \n",
       "0                      4  \n",
       "1                      4  \n",
       "2                      2  \n",
       "3                      2  \n",
       "4                      1  "
      ]
     },
     "execution_count": 24,
     "metadata": {},
     "output_type": "execute_result"
    }
   ],
   "source": [
    "df['humour'] = df['humour'].astype('category')\n",
    "df['sarcasm']= df['sarcasm'].astype('category')\n",
    "df['offensive']= df['offensive'].astype('category')\n",
    "df['motivational']= df['motivational'].astype('category')\n",
    "df['overall_sentiment']= df['overall_sentiment'].astype('category')\n",
    "\n",
    "\n",
    "df['humour_cat'] = df['humour'].cat.codes\n",
    "df['sarcasm_cat'] = df['sarcasm'].cat.codes\n",
    "df['offensive_cat'] = df['offensive'].cat.codes\n",
    "df['motivational_cat'] = df['motivational'].cat.codes\n",
    "df['overall_sentiment_cat'] = df['overall_sentiment'].cat.codes\n",
    "df.head()"
   ]
  },
  {
   "cell_type": "markdown",
   "id": "72ed9536",
   "metadata": {},
   "source": [
    "## Exploration\n",
    "\n",
    "Now we’ll explore the dataset to understand the size of data, the various fields, the values that different features take, and the distribution of target values.                                          \n",
    "\n",
    "### Data exploration and transformations\n",
    "\n",
    "For an effective ML model and potentially for higher accuracy, the more data the better. Since the dataset we’re using in this blog post is quite limited, I didn’t remove any features. This methodology can be applied for larger data sets."
   ]
  },
  {
   "cell_type": "code",
   "execution_count": null,
   "id": "b2808515",
   "metadata": {},
   "outputs": [],
   "source": []
  },
  {
   "cell_type": "code",
   "execution_count": null,
   "id": "12b808d6",
   "metadata": {},
   "outputs": [],
   "source": []
  },
  {
   "cell_type": "markdown",
   "id": "98b6e9f2",
   "metadata": {},
   "source": [
    "### Data Histograms and Correlation\n",
    "\n",
    "Here we can visualize the data to see the spread of data within each feature in a histogram and scatter matrix. The scatter-plot matrix displays the correlation between pairs of variables. The matrix makes it easy to look at all pairwise correlations in one place."
   ]
  },
  {
   "cell_type": "code",
   "execution_count": 25,
   "id": "c3835bf7",
   "metadata": {},
   "outputs": [
    {
     "data": {
      "text/html": [
       "<div>\n",
       "<style scoped>\n",
       "    .dataframe tbody tr th:only-of-type {\n",
       "        vertical-align: middle;\n",
       "    }\n",
       "\n",
       "    .dataframe tbody tr th {\n",
       "        vertical-align: top;\n",
       "    }\n",
       "\n",
       "    .dataframe thead th {\n",
       "        text-align: right;\n",
       "    }\n",
       "</style>\n",
       "<table border=\"1\" class=\"dataframe\">\n",
       "  <thead>\n",
       "    <tr style=\"text-align: right;\">\n",
       "      <th></th>\n",
       "      <th>humour_cat</th>\n",
       "      <th>sarcasm_cat</th>\n",
       "      <th>offensive_cat</th>\n",
       "      <th>motivational_cat</th>\n",
       "      <th>overall_sentiment_cat</th>\n",
       "    </tr>\n",
       "  </thead>\n",
       "  <tbody>\n",
       "    <tr>\n",
       "      <th>count</th>\n",
       "      <td>6987.000000</td>\n",
       "      <td>6987.000000</td>\n",
       "      <td>6987.000000</td>\n",
       "      <td>6987.000000</td>\n",
       "      <td>6987.000000</td>\n",
       "    </tr>\n",
       "    <tr>\n",
       "      <th>mean</th>\n",
       "      <td>1.525118</td>\n",
       "      <td>0.832546</td>\n",
       "      <td>1.758552</td>\n",
       "      <td>0.647202</td>\n",
       "      <td>1.865035</td>\n",
       "    </tr>\n",
       "    <tr>\n",
       "      <th>std</th>\n",
       "      <td>1.261554</td>\n",
       "      <td>0.959387</td>\n",
       "      <td>0.816001</td>\n",
       "      <td>0.477875</td>\n",
       "      <td>1.088401</td>\n",
       "    </tr>\n",
       "    <tr>\n",
       "      <th>min</th>\n",
       "      <td>0.000000</td>\n",
       "      <td>0.000000</td>\n",
       "      <td>0.000000</td>\n",
       "      <td>0.000000</td>\n",
       "      <td>0.000000</td>\n",
       "    </tr>\n",
       "    <tr>\n",
       "      <th>25%</th>\n",
       "      <td>0.000000</td>\n",
       "      <td>0.000000</td>\n",
       "      <td>1.000000</td>\n",
       "      <td>0.000000</td>\n",
       "      <td>1.000000</td>\n",
       "    </tr>\n",
       "    <tr>\n",
       "      <th>50%</th>\n",
       "      <td>2.000000</td>\n",
       "      <td>0.000000</td>\n",
       "      <td>2.000000</td>\n",
       "      <td>1.000000</td>\n",
       "      <td>2.000000</td>\n",
       "    </tr>\n",
       "    <tr>\n",
       "      <th>75%</th>\n",
       "      <td>3.000000</td>\n",
       "      <td>2.000000</td>\n",
       "      <td>2.000000</td>\n",
       "      <td>1.000000</td>\n",
       "      <td>2.000000</td>\n",
       "    </tr>\n",
       "    <tr>\n",
       "      <th>max</th>\n",
       "      <td>3.000000</td>\n",
       "      <td>3.000000</td>\n",
       "      <td>3.000000</td>\n",
       "      <td>1.000000</td>\n",
       "      <td>4.000000</td>\n",
       "    </tr>\n",
       "  </tbody>\n",
       "</table>\n",
       "</div>"
      ],
      "text/plain": [
       "        humour_cat  sarcasm_cat  offensive_cat  motivational_cat  \\\n",
       "count  6987.000000  6987.000000    6987.000000       6987.000000   \n",
       "mean      1.525118     0.832546       1.758552          0.647202   \n",
       "std       1.261554     0.959387       0.816001          0.477875   \n",
       "min       0.000000     0.000000       0.000000          0.000000   \n",
       "25%       0.000000     0.000000       1.000000          0.000000   \n",
       "50%       2.000000     0.000000       2.000000          1.000000   \n",
       "75%       3.000000     2.000000       2.000000          1.000000   \n",
       "max       3.000000     3.000000       3.000000          1.000000   \n",
       "\n",
       "       overall_sentiment_cat  \n",
       "count            6987.000000  \n",
       "mean                1.865035  \n",
       "std                 1.088401  \n",
       "min                 0.000000  \n",
       "25%                 1.000000  \n",
       "50%                 2.000000  \n",
       "75%                 2.000000  \n",
       "max                 4.000000  "
      ]
     },
     "metadata": {},
     "output_type": "display_data"
    },
    {
     "data": {
      "image/png": "[encoded data removed]",
      "text/plain": [
       "<Figure size 720x720 with 6 Axes>"
      ]
     },
     "metadata": {
      "needs_background": "light"
     },
     "output_type": "display_data"
    },
    {
     "data": {
      "image/png": "[encoded data removed]",
      "text/plain": [
       "<Figure size 864x864 with 25 Axes>"
      ]
     },
     "metadata": {
      "needs_background": "light"
     },
     "output_type": "display_data"
    }
   ],
   "source": [
    "# Histograms for each numeric features\n",
    "display(df.describe())\n",
    "%matplotlib inline\n",
    "hist = df.hist(bins=30, sharey=True, figsize=(10, 10))\n",
    "\n",
    "##correlation\n",
    "\n",
    "pd.plotting.scatter_matrix(df,figsize=(12, 12))\n",
    "plt.show()"
   ]
  },
  {
   "cell_type": "code",
   "execution_count": null,
   "id": "5dbf285c",
   "metadata": {},
   "outputs": [],
   "source": []
  },
  {
   "cell_type": "markdown",
   "id": "20477542",
   "metadata": {},
   "source": [
    "### Data Description\n",
    "Let's talk about the data.  At a high level, we can see:\n",
    "\n",
    "* There are 9 columns and around 6992 rows in the raw data set\n",
    "* There are five classes - 'humour', 'sarcasm', 'offensive', 'motivational' & 'overall_sentiment' and each of these labels have multiple labels\n",
    "* 'Humour' -> hilarious, very_funny, funny, not_funny\n",
    "* 'Sarcasm' -> not_sarcastic, general, twisted_meaning, very_twisted\n",
    "* 'Offensive' -> not_offensive, slight, very_offensive, hateful_offensive\n",
    "* 'Motivational' -> motivational, motivational\n",
    "* 'Overall Sentiment' -> very_positive, positive, neutral, negative, very_negative\n",
    "\n",
    "_**Specifics on the features:**_ \n",
    "* 5 out of 5 features are categorical\n",
    "\n",
    "**Target variable:**\n",
    "* Identify the category in each of the classes"
   ]
  },
  {
   "cell_type": "code",
   "execution_count": 26,
   "id": "d23df104",
   "metadata": {},
   "outputs": [],
   "source": [
    "humour_classes = ['Funny','Hilarious','Not Funny', 'Very Funny']\n",
    "sarcasm_classes = ['General','Not Sarcastic', 'Twisted Meaning', 'Very Twisted']\n",
    "offensive_classes = ['Hateful Offensive', 'Not Offensive', 'Slight', 'Very Offensive']\n",
    "motivational_classes = ['Motivational', 'Not Motivational']\n",
    "sentiment_classes = ['Negative', 'Neutral', 'Positive', 'Very Negative', 'Very Positive']\n"
   ]
  },
  {
   "cell_type": "code",
   "execution_count": 27,
   "id": "fa7c6c65",
   "metadata": {},
   "outputs": [],
   "source": [
    "def humourcode(value):\n",
    "    if value == 'funny':\n",
    "        return 0\n",
    "    elif value == 'hilarious':\n",
    "        return 1\n",
    "    elif value == 'not_funny':\n",
    "        return 2\n",
    "    else :\n",
    "        return 3\n",
    "    \n",
    "def sarcasmcode(value):\n",
    "    if value == 'general':\n",
    "        return 4\n",
    "    elif value == 'not_sarcastic':\n",
    "        return 5\n",
    "    elif value == 'twisted_meaning':\n",
    "        return 6\n",
    "    else : \n",
    "        return 7\n",
    "\n",
    "def offensivecode(value):\n",
    "    if value == 'hateful_offensive':\n",
    "        return 8\n",
    "    elif value == 'not_offensive':\n",
    "        return 9\n",
    "    elif value == 'slight':\n",
    "        return 10\n",
    "    else :\n",
    "        return 11\n",
    "\n",
    "def motivationalcode(value):\n",
    "    if value == 'motivational':\n",
    "        return 12\n",
    "    else :\n",
    "        return 13\n",
    "\n",
    "def sentimentcode(value):\n",
    "    if value == 'negative':\n",
    "        return 14\n",
    "    elif value == 'neutral':\n",
    "        return 15\n",
    "    elif value == 'positive':\n",
    "        return 16\n",
    "    elif value == 'very_negative':\n",
    "        return 17\n",
    "    else:\n",
    "        return 18"
   ]
  },
  {
   "cell_type": "code",
   "execution_count": 28,
   "id": "603679c6",
   "metadata": {},
   "outputs": [],
   "source": [
    "def getcode(row):\n",
    "    code = []\n",
    "    humour = humourcode(row['humour'])\n",
    "    sarcasm = sarcasmcode(row['sarcasm'])\n",
    "    offensive = offensivecode(row['offensive'])\n",
    "    mot = motivationalcode(row['motivational'])\n",
    "    sentiment = sentimentcode(row['overall_sentiment'])\n",
    "    \n",
    "    code.append(humour)\n",
    "    code.append(sarcasm)\n",
    "    code.append(offensive)\n",
    "    code.append(mot)\n",
    "    code.append(sentiment)\n",
    "    return code"
   ]
  },
  {
   "cell_type": "code",
   "execution_count": 29,
   "id": "4e56f27a",
   "metadata": {},
   "outputs": [],
   "source": [
    "def upload_to_s3(channel, filepath, filename):\n",
    "    s3 = boto3.resource('s3')\n",
    "    data = open(filepath, \"rb\")\n",
    "    key = channel + '/' + filename\n",
    "    s3.Bucket(bucket).put_object(Key=key, Body=data)"
   ]
  },
  {
   "cell_type": "markdown",
   "id": "eb484d84",
   "metadata": {},
   "source": [
    "Split the data into 80% training, 10% validation and 10% training data\n"
   ]
  },
  {
   "cell_type": "code",
   "execution_count": 30,
   "id": "dca00cfd",
   "metadata": {},
   "outputs": [
    {
     "name": "stdout",
     "output_type": "stream",
     "text": [
      "Number of training samples = 5589\n",
      "Number of validation samples = 699\n",
      "Number of testing samples = 699\n"
     ]
    }
   ],
   "source": [
    "# Let's split to data into training (80%), validation (10%) and test (10%) subsets.\n",
    "train_indices = np.arange(0, int(0.8*len(df)))\n",
    "val_indices = np.arange(int(0.8*len(df)), int(0.9*len(df)))\n",
    "test_indices = np.arange(int(0.9*len(df)), int(1.0*len(df)))\n",
    "\n",
    "train_df = df.iloc[train_indices]\n",
    "val_df = df.iloc[val_indices]\n",
    "test_df = df.iloc[test_indices]\n",
    "\n",
    "\n",
    "num_training_samples = len(train_df)\n",
    "num_val_samples = len(val_df)\n",
    "num_test_samples = len(test_df)\n",
    "\n",
    "print(\"Number of training samples = \" + str(num_training_samples))\n",
    "print(\"Number of validation samples = \" + str(num_val_samples))\n",
    "print(\"Number of testing samples = \" + str(num_test_samples))\n"
   ]
  },
  {
   "cell_type": "markdown",
   "id": "1cca83e4",
   "metadata": {},
   "source": [
    "---\n",
    "\n",
    "## Image Classification Training\n",
    "\n",
    "For our first training algorithm we use the Image classification algorithm. The Amazon SageMaker image classification algorithm is a supervised learning algorithm that supports multi-label classification. It takes an image as input and outputs one or more labels assigned to that image. It uses a convolutional neural network (ResNet) that can be trained from scratch or trained using transfer learning when a large number of training images are not available. \n",
    "\n",
    "First we’ll need to specify training parameters. These include the following:\n",
    "\n",
    "   * Our training job name\n",
    "   * The image-classification algorithm container\n",
    "   * Training instance type and count\n",
    "   * S3 location for training data\n",
    "   * S3 location for output data\n",
    "   * Algorithm hyperparameters\n",
    "\n",
    "The supported training input format is jpeg. We use Augmented File format for serving the inputs - Augmented file format contains 'source-ref' that contains the path to the image in S3 and 'class' is a list of labels in the 'class-id' format. The inputs are wrapped in RecordIO format."
   ]
  },
  {
   "cell_type": "code",
   "execution_count": 31,
   "id": "5f7fdf9b",
   "metadata": {},
   "outputs": [
    {
     "name": "stderr",
     "output_type": "stream",
     "text": [
      "The method get_image_uri has been renamed in sagemaker>=2.\n",
      "See: https://sagemaker.readthedocs.io/en/stable/v2.html for details.\n",
      "Defaulting to the only supported framework/algorithm version: 1. Ignoring framework/algorithm version: latest.\n"
     ]
    },
    {
     "name": "stdout",
     "output_type": "stream",
     "text": [
      "811284229777.dkr.ecr.us-east-1.amazonaws.com/image-classification:1\n"
     ]
    }
   ],
   "source": [
    "training_image = get_image_uri(region, 'image-classification', repo_version=\"latest\")\n",
    "print (training_image)"
   ]
  },
  {
   "cell_type": "code",
   "execution_count": 32,
   "id": "a32838fc",
   "metadata": {},
   "outputs": [],
   "source": [
    "# Four channels: train, validation, train_lst, and validation_lst\n",
    "s3_train_key = prefix_img + '/train'\n",
    "s3_validation_key = prefix_img + '/validation'\n",
    "s3train_lst_key = prefix_img + '/train_lst'\n",
    "s3validation_lst_key = prefix_img + '/validation_lst'\n",
    "s3train = 's3://{}/{}/train/'.format(bucket, prefix_img)\n",
    "s3validation = 's3://{}/{}/validation/'.format(bucket, prefix_img)\n",
    "s3train_lst = 's3://{}/{}/train_lst/'.format(bucket, prefix_img)\n",
    "s3validation_lst = 's3://{}/{}/validation_lst/'.format(bucket, prefix_img)\n",
    "\n",
    "train_lst_path = './memotion_dataset_7k/train_image.manifest'\n",
    "val_lst_path = './memotion_dataset_7k/validate_image.manifest'"
   ]
  },
  {
   "cell_type": "markdown",
   "id": "29048617",
   "metadata": {},
   "source": [
    "Create Augmented file format for the training dataset"
   ]
  },
  {
   "cell_type": "code",
   "execution_count": 33,
   "id": "0519e3be",
   "metadata": {},
   "outputs": [],
   "source": [
    "#{\"source-ref\": \"s3://mybucket/sample01/image1.jpg\", \"class\": \"[2, 4, 12]\"}\n",
    "\n",
    "with open(train_lst_path,mode='a',encoding='utf-8') as f:\n",
    "    for index, row in train_df.iterrows():\n",
    "        code = getcode(row)         \n",
    "        path = ''\n",
    "        if isPNGfile(row['image_name']) == True:\n",
    "            jpgfilename = changePNGextntoJPG(row['image_name'])\n",
    "            path = s3train + jpgfilename\n",
    "        else:\n",
    "            path = s3train + row['image_name']\n",
    "        data_set = {\"source-ref\": str(path), \"class\": str(code)}\n",
    "        json_str = json.dumps(data_set,ensure_ascii=False)\n",
    "        f.write(json_str + '\\n')  "
   ]
  },
  {
   "cell_type": "markdown",
   "id": "42d3a0e2",
   "metadata": {},
   "source": [
    "Create Augmented file format for the validation dataset"
   ]
  },
  {
   "cell_type": "code",
   "execution_count": 34,
   "id": "9735fde0",
   "metadata": {},
   "outputs": [],
   "source": [
    "with open(val_lst_path,mode='a',encoding='utf-8') as valf:\n",
    "    for index, row in val_df.iterrows():\n",
    "        code = getcode(row)\n",
    "        path = ''\n",
    "        if isPNGfile(row['image_name']) == True:\n",
    "            jpgfilename = changePNGextntoJPG(row['image_name'])\n",
    "            path = s3validation + jpgfilename\n",
    "        else:\n",
    "            path = s3validation + row['image_name']\n",
    "\n",
    "        data_set = {\"source-ref\": str(path), \"class\": str(code)}\n",
    "        json_str = json.dumps(data_set,ensure_ascii=False)\n",
    "        valf.write(json_str + '\\n')  "
   ]
  },
  {
   "cell_type": "markdown",
   "id": "ae592e78",
   "metadata": {},
   "source": [
    "Upload the images to S3 - we only upload the jpg files to S3"
   ]
  },
  {
   "cell_type": "code",
   "execution_count": 35,
   "id": "2eb1fc81",
   "metadata": {},
   "outputs": [],
   "source": [
    "for index, row in train_df.iterrows():\n",
    "    if isPNGfile(row['image_name']) == True:\n",
    "        jpgfilename = changePNGextntoJPG(row['image_name'])\n",
    "        filepath = image_dir + '/' + jpgfilename\n",
    "        upload_to_s3(s3_train_key,filepath,jpgfilename)\n",
    "    else:\n",
    "        filepath = image_dir + '/' + row['image_name']\n",
    "        upload_to_s3(s3_train_key,filepath,row['image_name'])"
   ]
  },
  {
   "cell_type": "code",
   "execution_count": 36,
   "id": "4aade4ac",
   "metadata": {},
   "outputs": [],
   "source": [
    "for index, row in val_df.iterrows():\n",
    "    if isPNGfile(row['image_name']) == True:\n",
    "        jpgfilename = changePNGextntoJPG(row['image_name'])\n",
    "        filepath = image_dir + '/' + jpgfilename\n",
    "        upload_to_s3(s3_validation_key,filepath,jpgfilename)\n",
    "    else:\n",
    "        filepath = image_dir + '/' + row['image_name']\n",
    "        upload_to_s3(s3_validation_key,filepath,row['image_name'])"
   ]
  },
  {
   "cell_type": "markdown",
   "id": "e6fb8b9e",
   "metadata": {},
   "source": [
    "Upload the augmented manifest files to S3"
   ]
  },
  {
   "cell_type": "code",
   "execution_count": 37,
   "id": "52141325",
   "metadata": {},
   "outputs": [],
   "source": [
    "train_lst_path = './memotion_dataset_7k/train_image.manifest'\n",
    "upload_to_s3(s3train_lst_key,train_lst_path,'train_image.manifest')\n",
    "\n",
    "validate_lst_path = './memotion_dataset_7k/validate_image.manifest'\n",
    "upload_to_s3(s3validation_lst_key,validate_lst_path,'validate_image.manifest')"
   ]
  },
  {
   "cell_type": "markdown",
   "id": "a09de4e6",
   "metadata": {},
   "source": [
    "#### Specify parameters based on the model\n",
    "* Number of layers: 50\n",
    "* We use pretrained model \n",
    "* Number of classes = 19\n",
    "* Number of epochs = 30\n",
    "* Set multi_label to 1"
   ]
  },
  {
   "cell_type": "code",
   "execution_count": 38,
   "id": "1b9e9754",
   "metadata": {},
   "outputs": [],
   "source": [
    "num_layers= \"50\"\n",
    "use_pretrained_model=1\n",
    "num_classes=19\n",
    "mini_batch_size=32\n",
    "epochs=30\n",
    "learning_rate=0.01\n",
    "num_training_samples=num_training_samples\n",
    "augmentation_type = 'crop_color_transform'\n",
    "precision_dtype='float32'\n",
    "multi_label=1\n",
    "resize=256"
   ]
  },
  {
   "cell_type": "markdown",
   "id": "f4ea98de",
   "metadata": {},
   "source": [
    "We specify the training data path and validation data path"
   ]
  },
  {
   "cell_type": "code",
   "execution_count": 39,
   "id": "672bd5f8",
   "metadata": {},
   "outputs": [],
   "source": [
    "train_path = s3train_lst + \"train_image.manifest\"\n",
    "\n",
    "val_path = s3validation_lst + \"validate_image.manifest\""
   ]
  },
  {
   "cell_type": "markdown",
   "id": "9e2aaf24",
   "metadata": {},
   "source": [
    "We have enabled Spot instances for the training"
   ]
  },
  {
   "cell_type": "code",
   "execution_count": 40,
   "id": "ac015faa",
   "metadata": {},
   "outputs": [
    {
     "name": "stdout",
     "output_type": "stream",
     "text": [
      "Training job name: humourdetection-imageclassification--2021-05-18-15-05-36\n",
      "\n",
      "Input Data Location: {'S3DataType': 'AugmentedManifestFile', 'S3Uri': 's3://sagemaker-us-east-1-329612514298/sagemaker/Memotion_Analysis/imageclassification/train_lst/train_image.manifest', 'S3DataDistributionType': 'FullyReplicated', 'AttributeNames': ['source-ref', 'class']}\n",
      "CPU times: user 717 µs, sys: 0 ns, total: 717 µs\n",
      "Wall time: 763 µs\n"
     ]
    }
   ],
   "source": [
    "%%time\n",
    "import time\n",
    "import boto3\n",
    "from time import gmtime, strftime\n",
    "\n",
    "# create unique job name\n",
    "job_name_prefix = 'humourdetection-imageclassification'\n",
    "job_name = job_name_prefix + '-' + time.strftime('-%Y-%m-%d-%H-%M-%S', time.gmtime())\n",
    "\n",
    "s3_output_location = 's3://{}/{}/output'.format(bucket, prefix_img)\n",
    "\n",
    "training_params = \\\n",
    "{\n",
    "    # specify the training docker image\n",
    "    \"AlgorithmSpecification\": {\n",
    "        \"TrainingImage\": training_image,\n",
    "        \"TrainingInputMode\": \"Pipe\"\n",
    "    },\n",
    "    \"RoleArn\": role,\n",
    "    \"OutputDataConfig\": {\n",
    "        \"S3OutputPath\": s3_output_location\n",
    "    },\n",
    "    \"ResourceConfig\": {\n",
    "        \"InstanceCount\": 1,\n",
    "        \"InstanceType\": \"ml.p2.xlarge\",\n",
    "        \"VolumeSizeInGB\": 100\n",
    "    },\n",
    "    \"TrainingJobName\": job_name,\n",
    "    \"HyperParameters\": {\n",
    "        \"num_layers\": str(num_layers),\n",
    "        \"num_training_samples\": str(num_training_samples),\n",
    "        \"num_classes\": str(num_classes),\n",
    "        \"mini_batch_size\": str(mini_batch_size),\n",
    "        \"epochs\": str(epochs),\n",
    "        \"learning_rate\": str(learning_rate),\n",
    "        \"use_pretrained_model\": str(use_pretrained_model),\n",
    "        \"augmentation_type\": str(augmentation_type),\n",
    "        \"precision_dtype\": str(precision_dtype),\n",
    "        \"multi_label\": str(multi_label),\n",
    "        \"resize\": str(resize),\n",
    "    },\n",
    "    \"StoppingCondition\": {\n",
    "        \"MaxRuntimeInSeconds\": 7200,\n",
    "        \"MaxWaitTimeInSeconds\": 12000\n",
    "    },\n",
    "    \"EnableManagedSpotTraining\": True,\n",
    "#Training data should be inside a subdirectory called \"train\"\n",
    "#Validation data should be inside a subdirectory called \"validation\"\n",
    "#The algorithm currently only supports fullyreplicated model (where data is copied onto each machine)\n",
    "    \"InputDataConfig\": [\n",
    "        {\n",
    "            \"ChannelName\": \"train\",\n",
    "            \"DataSource\": {\n",
    "                \"S3DataSource\": {\n",
    "                    \"S3DataType\": \"AugmentedManifestFile\",\n",
    "                    \"S3Uri\": train_path,\n",
    "                    \"S3DataDistributionType\": \"FullyReplicated\",\n",
    "                    \"AttributeNames\": [\n",
    "                        'source-ref', 'class'\n",
    "                    ]\n",
    "                }\n",
    "            },\n",
    "            \"ContentType\": \"application/x-recordio; label-format=class-id\",\n",
    "            \"CompressionType\": \"None\",\n",
    "            \"RecordWrapperType\": \"RecordIO\"\n",
    "        },\n",
    "        {\n",
    "            \"ChannelName\": \"validation\",\n",
    "            \"DataSource\": {\n",
    "                \"S3DataSource\": {\n",
    "                    \"S3DataType\": \"AugmentedManifestFile\",\n",
    "                    \"S3Uri\": val_path,\n",
    "                    \"S3DataDistributionType\": \"FullyReplicated\",\n",
    "                    \"AttributeNames\": [\n",
    "                        'source-ref', 'class'\n",
    "                    ]\n",
    "                }\n",
    "            },\n",
    "            \"ContentType\": \"application/x-recordio; label-format=class-id\",\n",
    "            \"CompressionType\": \"None\",\n",
    "            \"RecordWrapperType\": \"RecordIO\"\n",
    "        }\n",
    "    ]\n",
    "}\n",
    "print('Training job name: {}'.format(job_name))\n",
    "print('\\nInput Data Location: {}'.format(training_params['InputDataConfig'][0]['DataSource']['S3DataSource']))"
   ]
  },
  {
   "cell_type": "code",
   "execution_count": 41,
   "id": "79a8f53e",
   "metadata": {},
   "outputs": [
    {
     "ename": "AttributeError",
     "evalue": "module 'sagemaker' has no attribute 'create_training_job'",
     "output_type": "error",
     "traceback": [
      "\u001b[0;31m---------------------------------------------------------------------------\u001b[0m",
      "\u001b[0;31mAttributeError\u001b[0m                            Traceback (most recent call last)",
      "\u001b[0;32m<ipython-input-41-d0b98c691056>\u001b[0m in \u001b[0;36m<module>\u001b[0;34m\u001b[0m\n\u001b[1;32m      1\u001b[0m \u001b[0;31m# create the Amazon SageMaker training job\u001b[0m\u001b[0;34m\u001b[0m\u001b[0;34m\u001b[0m\u001b[0;34m\u001b[0m\u001b[0m\n\u001b[0;32m----> 2\u001b[0;31m \u001b[0msagemaker\u001b[0m\u001b[0;34m.\u001b[0m\u001b[0mcreate_training_job\u001b[0m\u001b[0;34m(\u001b[0m\u001b[0;34m**\u001b[0m\u001b[0mtraining_params\u001b[0m\u001b[0;34m)\u001b[0m\u001b[0;34m\u001b[0m\u001b[0;34m\u001b[0m\u001b[0m\n\u001b[0m\u001b[1;32m      3\u001b[0m \u001b[0;34m\u001b[0m\u001b[0m\n\u001b[1;32m      4\u001b[0m \u001b[0;31m# confirm that the training job has started\u001b[0m\u001b[0;34m\u001b[0m\u001b[0;34m\u001b[0m\u001b[0;34m\u001b[0m\u001b[0m\n\u001b[1;32m      5\u001b[0m \u001b[0mstatus\u001b[0m \u001b[0;34m=\u001b[0m \u001b[0msagemaker\u001b[0m\u001b[0;34m.\u001b[0m\u001b[0mdescribe_training_job\u001b[0m\u001b[0;34m(\u001b[0m\u001b[0mTrainingJobName\u001b[0m\u001b[0;34m=\u001b[0m\u001b[0mjob_name\u001b[0m\u001b[0;34m)\u001b[0m\u001b[0;34m[\u001b[0m\u001b[0;34m'TrainingJobStatus'\u001b[0m\u001b[0;34m]\u001b[0m\u001b[0;34m\u001b[0m\u001b[0;34m\u001b[0m\u001b[0m\n",
      "\u001b[0;31mAttributeError\u001b[0m: module 'sagemaker' has no attribute 'create_training_job'"
     ]
    }
   ],
   "source": [
    "# create the Amazon SageMaker training job\n",
    "sagemaker.create_training_job(**training_params)\n",
    "\n",
    "# confirm that the training job has started\n",
    "status = sagemaker.describe_training_job(TrainingJobName=job_name)['TrainingJobStatus']\n",
    "print('Training job current status: {}'.format(status))\n",
    "\n",
    "try:\n",
    "    # wait for the job to finish and report the ending status\n",
    "    sagemaker.get_waiter('training_job_completed_or_stopped').wait(TrainingJobName=job_name)\n",
    "    training_info = sagemaker.describe_training_job(TrainingJobName=job_name)\n",
    "    status = training_info['TrainingJobStatus']\n",
    "    print(\"Training job ended with status: \" + status)\n",
    "    print(training_info['FinalMetricDataList'])\n",
    "    print(\"Training time = \")\n",
    "    print(training_info['TrainingTimeInSeconds'] )\n",
    "    print(\"Billable time = \")\n",
    "    print(training_info['BillableTimeInSeconds'] )\n",
    "except:\n",
    "    print('Training failed to start')\n",
    "     # if exception is raised, that means it has failed\n",
    "    message = sagemaker.describe_training_job(TrainingJobName=job_name)['FailureReason']\n",
    "    print('Training failed with the following error: {}'.format(message))\n"
   ]
  },
  {
   "cell_type": "markdown",
   "id": "8141c6c5",
   "metadata": {},
   "source": [
    "##### Create the model container that will be used for hosting on the endpoint. The ContainerHostName is defined as 'image-classification' for direct invocation during inferencing"
   ]
  },
  {
   "cell_type": "code",
   "execution_count": null,
   "id": "87161d1f",
   "metadata": {},
   "outputs": [],
   "source": [
    "%%time\n",
    "import boto3\n",
    "from time import gmtime, strftime\n",
    "\n",
    "model_name=\"humourdetection-imageclassification-model\" + time.strftime('-%Y-%m-%d-%H-%M-%S', time.gmtime())\n",
    "print(model_name)\n",
    "info = sage.describe_training_job(TrainingJobName=job_name)\n",
    "img_model_data = info['ModelArtifacts']['S3ModelArtifacts']\n",
    "print(img_model_data)\n",
    "\n",
    "img_hosting_image = get_image_uri(boto3.Session().region_name, 'image-classification')\n",
    "img_ContainerHostname =  'image-classification'\n",
    "\n",
    "image_classification_container = {\n",
    "    'ContainerHostname': img_ContainerHostname,\n",
    "    'Image': img_hosting_image,\n",
    "    'ModelDataUrl': img_model_data,\n",
    "}"
   ]
  },
  {
   "cell_type": "markdown",
   "id": "43d59ed6",
   "metadata": {},
   "source": [
    "---\n",
    "\n",
    "## BlazingText Training\n",
    "\n",
    "For our second training algorithm we use the BlazingText algorithm. The Amazon SageMaker BlazingText algorithm provides highly optimized implementations of the Word2vec and text classification algorithms. The Word2vec algorithm is useful for many downstream natural language processing (NLP) tasks, such as sentiment analysis, named entity recognition, machine translation, etc. Text classification is an important task for applications that perform web searches, information retrieval, ranking, and document classification\n",
    "\n",
    "First we’ll need to specify training parameters. These include the following:\n",
    "\n",
    "   * Our training job name\n",
    "   * The image-classification algorithm container\n",
    "   * Training instance type and count\n",
    "   * S3 location for training data\n",
    "   * S3 location for output data\n",
    "   * Algorithm hyperparameters\n",
    "\n",
    "The supported training input format are augmented manifest files. Augmented file format contains 'source' that contains the cleaned text and 'label' is a list of labels in the 'class-id' format. The inputs are wrapped in RecordIO format."
   ]
  },
  {
   "cell_type": "code",
   "execution_count": null,
   "id": "d0df76f9",
   "metadata": {},
   "outputs": [],
   "source": [
    "training_image_txt = get_image_uri(region, 'blazingtext', repo_version=\"latest\")"
   ]
  },
  {
   "cell_type": "code",
   "execution_count": null,
   "id": "123579ce",
   "metadata": {},
   "outputs": [],
   "source": [
    "def process_text_line(texts):\n",
    "    texts = str(texts)\n",
    "    texts = texts.lower() # Lowercase \n",
    "    texts = re.sub('\\s+', ' ', texts) # Remove extra space and tabs\n",
    "    texts = re.compile('<.*?>').sub('', texts) # Remove HTML tags/markups:\n",
    "    texts = texts.translate(str.maketrans('', '', string.punctuation))\n",
    "    return texts"
   ]
  },
  {
   "cell_type": "code",
   "execution_count": null,
   "id": "d93f6757",
   "metadata": {},
   "outputs": [],
   "source": [
    "# Four channels: train, validation, train_lst, and validation_lst\n",
    "s3_train_key = prefix_txt + '/train'\n",
    "s3_validation_key = prefix_txt + '/validation'\n",
    "s3train_lst_key = prefix_txt + '/train_lst'\n",
    "s3validation_lst_key = prefix_txt + '/validation_lst'\n",
    "s3train = 's3://{}/{}/train/'.format(bucket, prefix_txt)\n",
    "s3validation = 's3://{}/{}/validation/'.format(bucket, prefix_txt)\n",
    "s3train_lst = 's3://{}/{}/train_lst/'.format(bucket, prefix_txt)\n",
    "s3validation_lst = 's3://{}/{}/validation_lst/'.format(bucket, prefix_txt)"
   ]
  },
  {
   "cell_type": "markdown",
   "id": "dae4dcfd",
   "metadata": {},
   "source": [
    "Upload the augmented manifest files to S3"
   ]
  },
  {
   "cell_type": "code",
   "execution_count": null,
   "id": "24526216",
   "metadata": {},
   "outputs": [],
   "source": [
    "train_lst_path = './memotion_dataset_7k/train_text.manifest'\n",
    "\n",
    "\n",
    "with open(train_lst_path,mode='a',encoding='utf-8') as f:\n",
    "    for index, row in train_df.iterrows():\n",
    "        code = getcode(row)\n",
    "        text = process_text_line(row[\"text_corrected\"])\n",
    "        data_set = {\"source\": str(text), \"label\": str(code)}\n",
    "        json_str = json.dumps(data_set,ensure_ascii=False)\n",
    "        f.write(json_str + '\\n')  \n",
    "        \n",
    "upload_to_s3(s3train_lst_key,train_lst_path,'train_text.manifest')"
   ]
  },
  {
   "cell_type": "code",
   "execution_count": null,
   "id": "b8c2c87d",
   "metadata": {},
   "outputs": [],
   "source": [
    "validate_lst_path = './memotion_dataset_7k/validate_text.manifest'\n",
    "\n",
    "\n",
    "with open(validate_lst_path,mode='a',encoding='utf-8') as f:\n",
    "    for index, row in val_df.iterrows():\n",
    "        code = getcode(row)            \n",
    "        text = process_text_line(row[\"text_corrected\"])\n",
    "        data_set = {\"source\": str(text), \"label\": str(code)}\n",
    "        json_str = json.dumps(data_set,ensure_ascii=False)\n",
    "        f.write(json_str + '\\n')  \n",
    "\n",
    "upload_to_s3(s3validation_lst_key,validate_lst_path,'validate_text.manifest')"
   ]
  },
  {
   "cell_type": "markdown",
   "id": "70a0aa68",
   "metadata": {},
   "source": [
    "We specify the training data path and validation data path"
   ]
  },
  {
   "cell_type": "code",
   "execution_count": null,
   "id": "aa247463",
   "metadata": {},
   "outputs": [],
   "source": [
    "s3_output_location = 's3://{}/{}/output'.format(bucket, prefix_txt)\n",
    "\n",
    "train_path = s3train_lst + \"train_text.manifest\"\n",
    "\n",
    "val_path = s3validation_lst + \"validate_text.manifest\""
   ]
  },
  {
   "cell_type": "markdown",
   "id": "8c2630d4",
   "metadata": {},
   "source": [
    "#### Specify parameters based on the model\n",
    "* Mode: 'supervised'\n",
    "* Number of epochs = 10\n",
    "* Set min_count to 2"
   ]
  },
  {
   "cell_type": "code",
   "execution_count": null,
   "id": "95e7692e",
   "metadata": {},
   "outputs": [],
   "source": [
    "mode = 'supervised'\n",
    "epochs = 10\n",
    "learning_rate = 0.05\n",
    "min_count = 2"
   ]
  },
  {
   "cell_type": "code",
   "execution_count": null,
   "id": "fd4d84a6",
   "metadata": {},
   "outputs": [],
   "source": [
    "%%time\n",
    "import time\n",
    "import boto3\n",
    "from time import gmtime, strftime\n",
    "\n",
    "# create unique job name\n",
    "job_name_prefix = 'humourdetection-nlpclassification'\n",
    "job_name = job_name_prefix + '-' + time.strftime('-%Y-%m-%d-%H-%M-%S', time.gmtime())\n",
    "training_params = \\\n",
    "{\n",
    "    # specify the training docker image\n",
    "    \"AlgorithmSpecification\": {\n",
    "        \"TrainingImage\": training_image_txt,\n",
    "        \"TrainingInputMode\": \"Pipe\"\n",
    "    },\n",
    "    \"RoleArn\": role,\n",
    "    \"OutputDataConfig\": {\n",
    "        \"S3OutputPath\": s3_output_location\n",
    "    },\n",
    "    \"ResourceConfig\": {\n",
    "        \"InstanceCount\": 1,\n",
    "        \"InstanceType\": \"ml.c5.4xlarge\",\n",
    "        \"VolumeSizeInGB\": 10\n",
    "    },\n",
    "    \"TrainingJobName\": job_name,\n",
    "    \"HyperParameters\": {\n",
    "        \"mode\": mode,\n",
    "        \"min_count\": str(min_count),\n",
    "        \"epochs\": str(epochs),\n",
    "        \"learning_rate\": str(learning_rate),\n",
    "    },\n",
    "    \"StoppingCondition\": {\n",
    "        \"MaxRuntimeInSeconds\": 3000,\n",
    "        \"MaxWaitTimeInSeconds\": 3600\n",
    "    },\n",
    "    \"EnableManagedSpotTraining\": True,\n",
    "#Training data should be inside a subdirectory called \"train\"\n",
    "#Validation data should be inside a subdirectory called \"validation\"\n",
    "#The algorithm currently only supports fullyreplicated model (where data is copied onto each machine)\n",
    "    \"InputDataConfig\": [\n",
    "        {\n",
    "            \"ChannelName\": \"train\",\n",
    "            \"DataSource\": {\n",
    "                \"S3DataSource\": {\n",
    "                    \"S3DataType\": \"AugmentedManifestFile\",\n",
    "                    \"S3Uri\": train_path,\n",
    "                    \"S3DataDistributionType\": \"FullyReplicated\",\n",
    "                    \"AttributeNames\": [\n",
    "                        'source', 'label'\n",
    "                    ]\n",
    "                }\n",
    "            },\n",
    "            \"ContentType\": \"application/x-recordio; label-format=class-id\",\n",
    "            \"CompressionType\": \"None\",\n",
    "            \"RecordWrapperType\": \"RecordIO\"\n",
    "        },\n",
    "        {\n",
    "            \"ChannelName\": \"validation\",\n",
    "            \"DataSource\": {\n",
    "                \"S3DataSource\": {\n",
    "                    \"S3DataType\": \"AugmentedManifestFile\",\n",
    "                    \"S3Uri\": val_path,\n",
    "                    \"S3DataDistributionType\": \"FullyReplicated\",\n",
    "                    \"AttributeNames\": [\n",
    "                        'source', 'label'\n",
    "                    ]\n",
    "                }\n",
    "            },\n",
    "            \"ContentType\": \"application/x-recordio; label-format=class-id\",\n",
    "            \"CompressionType\": \"None\",\n",
    "            \"RecordWrapperType\": \"RecordIO\"\n",
    "        }\n",
    "    ]\n",
    "}\n",
    "print('Training job name: {}'.format(job_name))\n",
    "print('\\nInput Data Location: {}'.format(training_params['InputDataConfig'][0]['DataSource']['S3DataSource']))"
   ]
  },
  {
   "cell_type": "code",
   "execution_count": null,
   "id": "d0fa4202",
   "metadata": {},
   "outputs": [],
   "source": [
    "# create the Amazon SageMaker training job\n",
    "sagemaker.create_training_job(**training_params)\n",
    "\n",
    "# confirm that the training job has started\n",
    "status = sagemaker.describe_training_job(TrainingJobName=job_name)['TrainingJobStatus']\n",
    "print('Training job current status: {}'.format(status))\n",
    "\n",
    "try:\n",
    "    # wait for the job to finish and report the ending status\n",
    "    sagemaker.get_waiter('training_job_completed_or_stopped').wait(TrainingJobName=job_name)\n",
    "    training_info = sagemaker.describe_training_job(TrainingJobName=job_name)\n",
    "    status = training_info['TrainingJobStatus']\n",
    "    print(\"Training job ended with status: \" + status)\n",
    "    print(training_info['FinalMetricDataList'])\n",
    "    print(\"Training time = \")\n",
    "    print(training_info['TrainingTimeInSeconds'] )\n",
    "    print(\"Billable time = \")\n",
    "    print(training_info['BillableTimeInSeconds'] )\n",
    "except:\n",
    "    print('Training failed to start')\n",
    "     # if exception is raised, that means it has failed\n",
    "    message = sagemaker.describe_training_job(TrainingJobName=job_name)['FailureReason']\n",
    "    print('Training failed with the following error: {}'.format(message))"
   ]
  },
  {
   "cell_type": "markdown",
   "id": "66822665",
   "metadata": {},
   "source": [
    "##### Create the model container that will be used for hosting on the endpoint. The ContainerHostName is defined as 'blazingtext' for direct invocation during inferencing"
   ]
  },
  {
   "cell_type": "code",
   "execution_count": null,
   "id": "49320ac6",
   "metadata": {},
   "outputs": [],
   "source": [
    "%%time\n",
    "import boto3\n",
    "from time import gmtime, strftime\n",
    "\n",
    "\n",
    "model_name=\"humourdetection-nlpclassification-model\" + time.strftime('-%Y-%m-%d-%H-%M-%S', time.gmtime())\n",
    "print(model_name)\n",
    "info = sage.describe_training_job(TrainingJobName=job_name)\n",
    "nlp_model_data = info['ModelArtifacts']['S3ModelArtifacts']\n",
    "print(nlp_model_data)\n",
    "\n",
    "nlp_hosting_image = get_image_uri(boto3.Session().region_name, 'blazingtext')\n",
    "nlp_ContainerHostname =  'blazingtext'\n",
    "\n",
    "nlp_classification_container = {\n",
    "    'ContainerHostname': nlp_ContainerHostname,\n",
    "    'Image': nlp_hosting_image,\n",
    "    'ModelDataUrl': nlp_model_data,\n",
    "}\n"
   ]
  },
  {
   "cell_type": "markdown",
   "id": "d0fd8a3d",
   "metadata": {},
   "source": [
    "---\n",
    "\n",
    "## Hosting\n",
    "\n",
    "Now that we've trained the  algorithms on our data, let's setup a model which can later be hosted.  We will:\n",
    "1. Create a model that has multiple containers\n",
    "1. Create the hosting model"
   ]
  },
  {
   "cell_type": "code",
   "execution_count": null,
   "id": "b59d14fe",
   "metadata": {},
   "outputs": [],
   "source": [
    "\n",
    "\n",
    "model_name = \"memotion-detection\" + time.strftime('-%Y-%m-%d-%H-%M-%S', time.gmtime())\n",
    "print(model_name)\n",
    "\n",
    "inferenceExecutionConfig = {'Mode': 'Direct'} \n",
    "\n",
    "create_model_response = sage.create_model(\n",
    "    ModelName = model_name,\n",
    "    ExecutionRoleArn = role,\n",
    "    Containers       = [image_classification_container, nlp_classification_container],\n",
    "    InferenceExecutionConfig = inferenceExecutionConfig)\n",
    "\n",
    "print(create_model_response['ModelArn'])"
   ]
  },
  {
   "cell_type": "markdown",
   "id": "8d2b7de8",
   "metadata": {},
   "source": [
    "After we set up a model, we can configure what our hosting endpoints should be. Here we specify the following:\n",
    "\n",
    "  1. EC2 instance type to use for hosting.\n",
    "  2. Initial number of instances.\n",
    "  3. Our hosting model name."
   ]
  },
  {
   "cell_type": "code",
   "execution_count": null,
   "id": "7ef6751a",
   "metadata": {},
   "outputs": [],
   "source": [
    "from time import gmtime, strftime\n",
    "\n",
    "job_name_prefix = \"memotion-detection-job\"\n",
    "\n",
    "timestamp = time.strftime('-%Y-%m-%d-%H-%M-%S', time.gmtime())\n",
    "endpoint_config_name = job_name_prefix + '-epc-' + timestamp\n",
    "endpoint_config_response = sage.create_endpoint_config(\n",
    "    EndpointConfigName = endpoint_config_name,\n",
    "    ProductionVariants=[{\n",
    "        'InstanceType':'ml.m5.xlarge',\n",
    "        'InitialInstanceCount':1,\n",
    "        'ModelName':model_name,\n",
    "        'VariantName':'AllTraffic'}])\n",
    "\n",
    "print('Endpoint configuration name: {}'.format(endpoint_config_name))\n",
    "print('Endpoint configuration arn:  {}'.format(endpoint_config_response['EndpointConfigArn']))"
   ]
  },
  {
   "cell_type": "markdown",
   "id": "fbafde04",
   "metadata": {},
   "source": [
    "### Create endpoint\n",
    "Lastly, we create the endpoint that serves up the model, through specifying the name and configuration defined earlier. The end result is an endpoint that can be validated and incorporated into production applications. This takes about 7-11 minutes to complete."
   ]
  },
  {
   "cell_type": "code",
   "execution_count": null,
   "id": "cd28c2c6",
   "metadata": {},
   "outputs": [],
   "source": [
    "%%time\n",
    "import time\n",
    "\n",
    "timestamp = time.strftime('-%Y-%m-%d-%H-%M-%S', time.gmtime())\n",
    "endpoint_name = job_name_prefix + '-ep-' + timestamp\n",
    "print('Endpoint name: {}'.format(endpoint_name))\n",
    "\n",
    "endpoint_params = {\n",
    "    'EndpointName': endpoint_name,\n",
    "    'EndpointConfigName': endpoint_config_name,\n",
    "}\n",
    "endpoint_response = sage.create_endpoint(**endpoint_params)\n",
    "print('EndpointArn = {}'.format(endpoint_response['EndpointArn']))"
   ]
  },
  {
   "cell_type": "code",
   "execution_count": null,
   "id": "5cd6a80a",
   "metadata": {},
   "outputs": [],
   "source": [
    "# get the status of the endpoint\n",
    "response = sage.describe_endpoint(EndpointName=endpoint_name)\n",
    "status = response['EndpointStatus']\n",
    "print('EndpointStatus = {}'.format(status))\n",
    "\n",
    "# wait until the status has changed\n",
    "sage.get_waiter('endpoint_in_service').wait(EndpointName=endpoint_name)\n",
    "\n",
    "# print the status of the endpoint\n",
    "endpoint_response = sage.describe_endpoint(EndpointName=endpoint_name)\n",
    "status = endpoint_response['EndpointStatus']\n",
    "print('Endpoint creation ended with EndpointStatus = {}'.format(status))\n",
    "\n",
    "if status != 'InService':\n",
    "    raise Exception('Endpoint creation failed.')"
   ]
  },
  {
   "cell_type": "markdown",
   "id": "743e6833",
   "metadata": {},
   "source": [
    "### Prediction\n",
    " Here is the model that was created is used to predict values"
   ]
  },
  {
   "cell_type": "code",
   "execution_count": 58,
   "id": "d38b1237",
   "metadata": {},
   "outputs": [],
   "source": [
    "runtime = boto3.Session().client(service_name='runtime.sagemaker') "
   ]
  },
  {
   "cell_type": "code",
   "execution_count": 59,
   "id": "cccc1712",
   "metadata": {},
   "outputs": [],
   "source": [
    "# Function to generate prediction through sample data\n",
    "def do_predict(data, endpoint_name, content_type, container_name):\n",
    "\n",
    "    response = runtime.invoke_endpoint(EndpointName=endpoint_name,\n",
    "                                   ContentType=content_type,\n",
    "                                   TargetContainerHostname = container_name,\n",
    "                                   Body=data)\n",
    "    result = json.loads(response['Body'].read())\n",
    "    return result\n",
    "\n",
    "# Function to iterate through a larger data set and generate batch predictions\n",
    "def batch_predict_image(data, batch_size, endpoint_name, content_type, container_name):\n",
    "    arrs = []\n",
    "\n",
    "    for imagefile in data:\n",
    "        filepath = useResizedJPEGImages(image_dir, imagefile)\n",
    "        with open(filepath, 'rb') as f:\n",
    "            payload = f.read()\n",
    "            payload = bytearray(payload)\n",
    "            results = do_predict(payload, endpoint_name, content_type, container_name)\n",
    "            results = list(np.around(np.array(results),3))\n",
    "            arrs.append(results)\n",
    "        sys.stdout.write('.')\n",
    "    return(arrs)\n",
    "\n",
    "\n",
    "def sortbylabels(result):\n",
    "    labels_list = result[0]['label']\n",
    "    probabilities_list = result[0]['prob']\n",
    "    data = {'label' : labels_list, 'prob' : probabilities_list }\n",
    "    df = pd.DataFrame(data)\n",
    "    df[\"label\"] = df[\"label\"].str.replace(\"__label__\", \"\")\n",
    "    df[\"label\"] = pd.to_numeric(df[\"label\"])\n",
    "    df = df.sort_values(by=['label','prob'])\n",
    "    sorted_prob = df['prob']\n",
    "    return sorted_prob.tolist()\n",
    "    \n",
    "\n",
    "def batch_predict_text(data, batch_size, endpoint_name, content_type, container_name):\n",
    "    arrs = []\n",
    "\n",
    "    for line in data:\n",
    "        clean_text = process_text_line(line)\n",
    "        tokenized_sentences = [' '.join(nltk.word_tokenize(clean_text))]\n",
    "        payload = {\"instances\" : tokenized_sentences, \"configuration\": {\"k\": 19}}\n",
    "        results = do_predict(json.dumps(payload), endpoint_name, content_type, container_name)\n",
    "        output = sortbylabels(results)\n",
    "        arrs.append(output)\n",
    "        sys.stdout.write('.')\n",
    "    return(arrs)\n",
    "    "
   ]
  },
  {
   "cell_type": "markdown",
   "id": "889487fe",
   "metadata": {},
   "source": [
    "We run the predictions for the test data on the image classification algorithm."
   ]
  },
  {
   "cell_type": "code",
   "execution_count": 60,
   "id": "5fd0ff50",
   "metadata": {},
   "outputs": [
    {
     "name": "stdout",
     "output_type": "stream",
     "text": [
      ".................................................................................................................................................................................................................................................................................................................................................................................................."
     ]
    },
    {
     "name": "stderr",
     "output_type": "stream",
     "text": [
      "/home/ec2-user/anaconda3/envs/mxnet_p36/lib/python3.6/site-packages/PIL/Image.py:963: UserWarning: Palette images with Transparency expressed in bytes should be converted to RGBA images\n",
      "  \"Palette images with Transparency expressed in bytes should be \"\n"
     ]
    },
    {
     "name": "stdout",
     "output_type": "stream",
     "text": [
      "........................................................................................................................................................................................................................................................................................................................."
     ]
    }
   ],
   "source": [
    "preds_test_image = batch_predict_image(test_df[\"image_name\"],num_test_samples,\n",
    "                                       endpoint_name, 'application/x-image',img_ContainerHostname)"
   ]
  },
  {
   "cell_type": "markdown",
   "id": "51fabe42",
   "metadata": {},
   "source": [
    "We run the predictions for the test data on the text classification algorithm."
   ]
  },
  {
   "cell_type": "code",
   "execution_count": 61,
   "id": "2b5f5c97",
   "metadata": {},
   "outputs": [
    {
     "name": "stdout",
     "output_type": "stream",
     "text": [
      "..........................................................................................................................................................................................................................................................................................................................................................................................................................................................................................................................................................................................................................................................................................................................."
     ]
    }
   ],
   "source": [
    "preds_test_text = batch_predict_text(test_df[\"text_corrected\"],num_test_samples,\n",
    "                                       endpoint_name, 'application/json',nlp_ContainerHostname)"
   ]
  },
  {
   "cell_type": "markdown",
   "id": "972ff56d",
   "metadata": {},
   "source": [
    "### Ensemble\n",
    "#### Perform simple average of the two models and evaluate on test sets"
   ]
  },
  {
   "cell_type": "code",
   "execution_count": 62,
   "id": "175b4f29",
   "metadata": {},
   "outputs": [],
   "source": [
    "# find average of NumPy arrays\n",
    "ensemble_prediction = 0.5* np.array(preds_test_image) + 0.5 *np.array(preds_test_text)"
   ]
  },
  {
   "cell_type": "markdown",
   "id": "9b0a063e",
   "metadata": {},
   "source": [
    "#### We choose the largest probability of each of the classes as the final output"
   ]
  },
  {
   "cell_type": "code",
   "execution_count": 68,
   "id": "a84b88e5",
   "metadata": {},
   "outputs": [],
   "source": [
    "preds_humour = ensemble_prediction[:,0:4]\n",
    "preds_sarcasm = ensemble_prediction[:,4:8]\n",
    "preds_offensive = ensemble_prediction[:,8:12]\n",
    "preds_motivational = ensemble_prediction[:,12:14]\n",
    "preds_sentiment = ensemble_prediction[:,14:19]"
   ]
  },
  {
   "cell_type": "code",
   "execution_count": 69,
   "id": "e974b8b7",
   "metadata": {},
   "outputs": [],
   "source": [
    "preds_humour_label = np.argmax(preds_humour, axis=1)\n",
    "preds_sarcasm_label = np.argmax(preds_sarcasm, axis=1)\n",
    "preds_offensive_label = np.argmax(preds_offensive, axis=1)\n",
    "preds_motivational_label = np.argmax(preds_motivational, axis=1)\n",
    "preds_sentiment_label = np.argmax(preds_sentiment, axis=1)"
   ]
  },
  {
   "cell_type": "code",
   "execution_count": null,
   "id": "ef4a24ae",
   "metadata": {},
   "outputs": [],
   "source": []
  },
  {
   "cell_type": "markdown",
   "id": "d76062d0",
   "metadata": {},
   "source": [
    "## Confusion Matrix\n",
    "\n",
    "You can also delve into the performance for each class by looking at the confusion matrix.\n",
    "\n",
    "The confusion matrix provides a visual representation of the performance based on the accuracy of the multiclass classification predictive model. In this table you can find the percentage of true positives and false positives."
   ]
  },
  {
   "cell_type": "code",
   "execution_count": 74,
   "id": "c3714cbc",
   "metadata": {},
   "outputs": [],
   "source": [
    "def plot_confusion_matrix(cm, classes,\n",
    "                          title='Confusion matrix',\n",
    "                          cmap=plt.cm.Greens):\n",
    "\n",
    "    print(cm)\n",
    "\n",
    "    plt.imshow(cm, interpolation='nearest', cmap=cmap)\n",
    "    plt.title(title)\n",
    "    plt.colorbar()\n",
    "    tick_marks = np.arange(len(classes))\n",
    "    plt.xticks(tick_marks, classes, rotation=45)\n",
    "    plt.yticks(tick_marks, classes)\n",
    "\n",
    "    fmt = 'd'\n",
    "    thresh = cm.max() / 2.\n",
    "    for i, j in itertools.product(range(cm.shape[0]), range(cm.shape[1])):\n",
    "        plt.text(j, i, format(cm[i, j], fmt),\n",
    "                 horizontalalignment=\"center\",\n",
    "                 color=\"white\" if cm[i, j] > thresh else \"black\")\n",
    "\n",
    "    plt.tight_layout()\n",
    "    plt.ylabel('True label')\n",
    "    plt.xlabel('Predicted label')\n",
    "    plt.show()"
   ]
  },
  {
   "cell_type": "code",
   "execution_count": 75,
   "id": "4282aac0",
   "metadata": {},
   "outputs": [],
   "source": [
    "offensive_test_data = np.array(test_df.offensive_cat)\n",
    "humour_test_data = np.array(test_df.humour_cat)\n",
    "sarcasm_test_data = np.array(test_df.sarcasm_cat)\n",
    "motivational_test_data = np.array(test_df.motivational_cat)\n",
    "overall_sentiment_test_data = np.array(test_df.overall_sentiment_cat)"
   ]
  },
  {
   "cell_type": "code",
   "execution_count": 77,
   "id": "625babe5",
   "metadata": {},
   "outputs": [
    {
     "name": "stdout",
     "output_type": "stream",
     "text": [
      "[[  0   0   0 248]\n",
      " [  0   0   0  58]\n",
      " [  0   0   0 156]\n",
      " [  0   0   0 237]]\n"
     ]
    },
    {
     "data": {
      "image/png": "[encoded data removed]",
      "text/plain": [
       "<Figure size 432x288 with 2 Axes>"
      ]
     },
     "metadata": {
      "needs_background": "light"
     },
     "output_type": "display_data"
    },
    {
     "name": "stdout",
     "output_type": "stream",
     "text": [
      "[[344   0   0   0]\n",
      " [156   0   0   0]\n",
      " [150   0   0   0]\n",
      " [ 49   0   0   0]]\n"
     ]
    },
    {
     "data": {
      "image/png": "[encoded data removed]",
      "text/plain": [
       "<Figure size 432x288 with 2 Axes>"
      ]
     },
     "metadata": {
      "needs_background": "light"
     },
     "output_type": "display_data"
    },
    {
     "name": "stdout",
     "output_type": "stream",
     "text": [
      "[[  0   1  21   0]\n",
      " [  0  16 258   0]\n",
      " [  0   9 238   0]\n",
      " [  0   7 149   0]]\n"
     ]
    },
    {
     "data": {
      "image/png": "[encoded data removed]",
      "text/plain": [
       "<Figure size 432x288 with 2 Axes>"
      ]
     },
     "metadata": {
      "needs_background": "light"
     },
     "output_type": "display_data"
    },
    {
     "name": "stdout",
     "output_type": "stream",
     "text": [
      "[[  0 241]\n",
      " [  0 458]]\n"
     ]
    },
    {
     "data": {
      "image/png": "[encoded data removed]",
      "text/plain": [
       "<Figure size 432x288 with 2 Axes>"
      ]
     },
     "metadata": {
      "needs_background": "light"
     },
     "output_type": "display_data"
    },
    {
     "name": "stdout",
     "output_type": "stream",
     "text": [
      "[[  0   0  38   0   0]\n",
      " [  0   2 218   0   0]\n",
      " [  0   2 313   0   0]\n",
      " [  0   0  16   0   0]\n",
      " [  0   0 110   0   0]]\n"
     ]
    },
    {
     "data": {
      "image/png": "[encoded data removed]",
      "text/plain": [
       "<Figure size 432x288 with 2 Axes>"
      ]
     },
     "metadata": {
      "needs_background": "light"
     },
     "output_type": "display_data"
    }
   ],
   "source": [
    "# Compute confusion matrix\n",
    "humour_cnf_matrix = metrics.confusion_matrix(humour_test_data, preds_humour_label) \n",
    "np.set_printoptions(precision=2)\n",
    "plot_confusion_matrix(humour_cnf_matrix, classes=humour_classes,title='Humour Confusion matrix')\n",
    "\n",
    "\n",
    "sarcasm_cnf_matrix = metrics.confusion_matrix(sarcasm_test_data, preds_sarcasm_label) \n",
    "plot_confusion_matrix(sarcasm_cnf_matrix, classes=sarcasm_classes,title='Sarcasm Confusion matrix')\n",
    "\n",
    "offensive_cnf_matrix = metrics.confusion_matrix(offensive_test_data, preds_offensive_label) \n",
    "plot_confusion_matrix(offensive_cnf_matrix, classes=offensive_classes,title='Offensive Confusion matrix')\n",
    "\n",
    "mot_cnf_matrix = metrics.confusion_matrix(motivational_test_data, preds_motivational_label) \n",
    "plot_confusion_matrix(mot_cnf_matrix, classes=motivational_classes,title='Motivational Confusion matrix')\n",
    "\n",
    "sentiment_cnf_matrix = metrics.confusion_matrix(overall_sentiment_test_data, preds_sentiment_label) \n",
    "plot_confusion_matrix(sentiment_cnf_matrix, classes=sentiment_classes,title='Sentiment Confusion matrix')\n"
   ]
  },
  {
   "cell_type": "markdown",
   "id": "3224f48e",
   "metadata": {},
   "source": [
    "---\n",
    "\n",
    "## Real-time predictions with Image as Input\n",
    "\n",
    "We can run real-time predictions using any meme image as input - we extract the text from the image using AWS Rekognition APIs and send it to text classification container and we also feed the image as input to image classification container."
   ]
  },
  {
   "cell_type": "code",
   "execution_count": null,
   "id": "e60bc065",
   "metadata": {},
   "outputs": [],
   "source": [
    "def detect_text(payload):\n",
    "\n",
    "    client=boto3.client('rekognition')\n",
    "\n",
    "    response=client.detect_text(Image={'Bytes': payload})\n",
    "                        \n",
    "    textDetections=response['TextDetections']\n",
    "    print ('Detected text\\n----------')\n",
    "    line = \"\"\n",
    "    for text in textDetections:\n",
    "        confidence = float(\"{:.2f}\".format(text['Confidence']))\n",
    "        if text['Type'] == 'LINE' and confidence > 95.00:\n",
    "            line += text['DetectedText']\n",
    "            line += \" \"\n",
    "                \n",
    "    return line\n"
   ]
  },
  {
   "cell_type": "code",
   "execution_count": null,
   "id": "2c4af63d",
   "metadata": {},
   "outputs": [],
   "source": [
    "file_name = 'test.jpg' ##filepath of the image input\n",
    "\n",
    "with open(file_name, 'rb') as f:\n",
    "    payload = f.read()\n",
    "    payload = bytearray(payload)"
   ]
  },
  {
   "cell_type": "code",
   "execution_count": null,
   "id": "b1c4f5d6",
   "metadata": {},
   "outputs": [],
   "source": [
    "response = runtime.invoke_endpoint(EndpointName=endpoint_name, \n",
    "                                   ContentType='application/x-image',\n",
    "                                   TargetContainerHostname = img_ContainerHostname,\n",
    "                                   Body=payload)\n",
    "result = response['Body'].read()\n",
    "# result will be in json format and convert it to ndarray\n",
    "result = json.loads(result)\n",
    "image_pred = list(np.around(np.array(result),3))"
   ]
  },
  {
   "cell_type": "code",
   "execution_count": null,
   "id": "8fa2a560",
   "metadata": {},
   "outputs": [],
   "source": [
    "line=detect_text(payload)\n",
    "clean_text = process_text_line(line)\n",
    "tokenized_sentences = [' '.join(nltk.word_tokenize(clean_text))]\n",
    "payload = {\"instances\" : tokenized_sentences, \"configuration\": {\"k\": 19}}"
   ]
  },
  {
   "cell_type": "code",
   "execution_count": null,
   "id": "936c4377",
   "metadata": {},
   "outputs": [],
   "source": [
    "response = runtime.invoke_endpoint(EndpointName=endpoint_name, \n",
    "                                   ContentType='application/json',\n",
    "                                   TargetContainerHostname = nlp_ContainerHostname,\n",
    "                                   Body=json.dumps(payload))\n",
    "\n",
    "result = response['Body'].read()\n",
    "# result will be in json format and convert it to ndarray\n",
    "result = json.loads(result)\n",
    "text_pred = sortbylabels(results)"
   ]
  },
  {
   "cell_type": "code",
   "execution_count": null,
   "id": "f55ba49c",
   "metadata": {},
   "outputs": [],
   "source": [
    "# find average of NumPy arrays\n",
    "ensemble_prediction = 0.5* np.array(image_pred) + 0.5 *np.array(text_pred)"
   ]
  },
  {
   "cell_type": "markdown",
   "id": "2617f60d",
   "metadata": {},
   "source": [
    "##### Run the command below to delete endpoints once you are done."
   ]
  },
  {
   "cell_type": "code",
   "execution_count": null,
   "id": "6f1fb243",
   "metadata": {},
   "outputs": [],
   "source": [
    "sage.delete_endpoint(EndpointName=endpoint_name)"
   ]
  }
 ],
 "metadata": {
  "kernelspec": {
   "display_name": "conda_mxnet_p36",
   "language": "python",
   "name": "conda_mxnet_p36"
  },
  "language_info": {
   "codemirror_mode": {
    "name": "ipython",
    "version": 3
   },
   "file_extension": ".py",
   "mimetype": "text/x-python",
   "name": "python",
   "nbconvert_exporter": "python",
   "pygments_lexer": "ipython3",
   "version": "3.6.13"
  }
 },
 "nbformat": 4,
 "nbformat_minor": 5
}
